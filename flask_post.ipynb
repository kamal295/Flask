{
 "cells": [
  {
   "cell_type": "code",
   "execution_count": null,
   "metadata": {},
   "outputs": [],
   "source": [
    "from flask import Flask,request,jsonify\n",
    "#(whenever there is post in form of json,txt,template we canretrive from this libaray)\n",
    "\n",
    "app=Flask(__name__)\n",
    "\n",
    "#Route(for which url ur considering)\n",
    "@app.route(\"/\")                          #homepage route\n",
    "def hello_world():\n",
    "    return \"<h1>Hello World<h1>\"\n",
    "\n",
    "@app.route('/aboutus')\n",
    "def abtus():\n",
    "    return \"we are there for you\"\n",
    "\n",
    "@app.route('/demo',methods=['POST'])\n",
    "def math_operation():\n",
    "    if(request.method=='POST'):\n",
    "        operation=request.json['operation']\n",
    "        num1=request.json['num1']\n",
    "        num2=request.json['num2']\n",
    "        result=num1+num2\n",
    "    #if request.method==\"POST\":\n",
    "    #result=int(request.json['num1'])+int(request.json['num2'])\n",
    "    #return jsonify(\"the summation is {}\".format(result))--------execution in json format\n",
    "\n",
    "        return \"The opearion is {} and result is {}\".format(operation,result)\n",
    "\n",
    "@app.route('/calc',methods=['POST'])\n",
    "def calc_operation():\n",
    "    if(request.method=='POST'):\n",
    "        operation=request.json['operation']\n",
    "        num1=request.json['num1']\n",
    "        num2=request.json['num2']\n",
    "        result=0\n",
    "\n",
    "        if operation==\"add\":\n",
    "            result=num1+num2\n",
    "        elif operation==\"multiply\":\n",
    "            result=num1*num2\n",
    "        elif operation=='division':\n",
    "            result=num1/num2\n",
    "        else:\n",
    "            result=num1-num2\n",
    "\n",
    "        return \"The operation is {} and the result is {}\".format(operation ,result)\n",
    "\n",
    "\n",
    "if __name__==\"__main__\":\n",
    "    app.run(host=\"0.0.0.0\",port=5000)\n"
   ]
  }
 ],
 "metadata": {
  "language_info": {
   "name": "python"
  },
  "orig_nbformat": 4
 },
 "nbformat": 4,
 "nbformat_minor": 2
}
